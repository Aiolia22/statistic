{
 "cells": [
  {
   "cell_type": "code",
   "execution_count": 1,
   "metadata": {},
   "outputs": [],
   "source": [
    "### Developed by Anderson Canteli ###\n",
    "# http://andersoncanteli.wordpress.com/\n",
    "\n",
    "import scipy.stats as stats"
   ]
  },
  {
   "cell_type": "code",
   "execution_count": 2,
   "metadata": {},
   "outputs": [],
   "source": [
    "group1 = [5.1, 4.9, 4.7, 4.6, 5, 5.4, 4.6, 5, 4.4, 4.9]\n",
    "n_group1 = len(group1)\n",
    "\n",
    "group2 = [6.3, 5.8, 7.1, 6.3, 6.5, 7.6, 4.9, 7.3, 6.7, 7.2]\n",
    "n_group2 = len(group2)\n",
    "\n",
    "group3 = [7, 6.4, 6.9, 5.5, 6.5, 5.7, 6.3, 4.9, 6.6, 5.2]\n",
    "n_group3 = len(group3)\n",
    "\n",
    "n_groups = 3"
   ]
  },
  {
   "cell_type": "code",
   "execution_count": 4,
   "metadata": {},
   "outputs": [
    {
     "name": "stdout",
     "output_type": "stream",
     "text": [
      "Levene test\n",
      "LeveneResult(statistic=4.136594522968192, pvalue=0.027096114296072053)\n",
      "\n",
      "Brown and Forsythe test - trimmed\n",
      "LeveneResult(statistic=4.136594522968199, pvalue=0.027096114296071894)\n",
      "\n",
      "Brown and Forsythe test - median\n",
      "LeveneResult(statistic=2.8732489832806163, pvalue=0.07390693343707372)\n"
     ]
    }
   ],
   "source": [
    "levene_test = stats.levene(group1, group2, group3, center='mean')\n",
    "print(\"Levene test\")\n",
    "print(levene_test)\n",
    "print(\"\")\n",
    "brown_forsythe_test_trimmed = stats.levene(group1, group2, group3, center='trimmed')\n",
    "print(\"Brown and Forsythe test - trimmed\")\n",
    "print(brown_forsythe_test_trimmed)\n",
    "print(\"\")\n",
    "brown_forsythe_test_median = stats.levene(group1, group2, group3, center='median')\n",
    "print(\"Brown and Forsythe test - median\")\n",
    "print(brown_forsythe_test_median)"
   ]
  },
  {
   "cell_type": "code",
   "execution_count": 5,
   "metadata": {},
   "outputs": [
    {
     "name": "stdout",
     "output_type": "stream",
     "text": [
      "F tabulated: \n"
     ]
    },
    {
     "data": {
      "text/plain": [
       "3.3541308285291986"
      ]
     },
     "execution_count": 5,
     "metadata": {},
     "output_type": "execute_result"
    }
   ],
   "source": [
    "print(\"F tabulated: \")\n",
    "stats.f.ppf(1-0.05, dfn=n_groups-1, dfd=(n_group1 + n_group2 + n_group3 - n_groups))"
   ]
  },
  {
   "cell_type": "code",
   "execution_count": null,
   "metadata": {},
   "outputs": [],
   "source": []
  },
  {
   "cell_type": "code",
   "execution_count": null,
   "metadata": {},
   "outputs": [],
   "source": []
  },
  {
   "cell_type": "code",
   "execution_count": null,
   "metadata": {},
   "outputs": [],
   "source": []
  },
  {
   "cell_type": "code",
   "execution_count": null,
   "metadata": {},
   "outputs": [],
   "source": []
  }
 ],
 "metadata": {
  "kernelspec": {
   "display_name": "sonic",
   "language": "python",
   "name": "sonic"
  },
  "language_info": {
   "codemirror_mode": {
    "name": "ipython",
    "version": 3
   },
   "file_extension": ".py",
   "mimetype": "text/x-python",
   "name": "python",
   "nbconvert_exporter": "python",
   "pygments_lexer": "ipython3",
   "version": "3.7.3"
  }
 },
 "nbformat": 4,
 "nbformat_minor": 4
}
